{
  "cells": [
    {
      "cell_type": "markdown",
      "metadata": {
        "id": "view-in-github",
        "colab_type": "text"
      },
      "source": [
        "<a href=\"https://colab.research.google.com/github/Serena-Anthony/vat-score-calculation/blob/main/vat_score.ipynb\" target=\"_parent\"><img src=\"https://colab.research.google.com/assets/colab-badge.svg\" alt=\"Open In Colab\"/></a>"
      ]
    },
    {
      "cell_type": "code",
      "source": [
        "# Install Python libraries\n",
        "!pip install --quiet \\\n",
        "    opencv-python-headless \\\n",
        "    moviepy \\\n",
        "    pytesseract \\\n",
        "    textstat \\\n",
        "    nltk \\\n",
        "    pydub \\\n",
        "    SpeechRecognition \\\n",
        "    ffmpeg-python \\\n",
        "    numpy \\\n",
        "    librosa \\\n",
        "    torch \\\n",
        "    torchvision \\\n",
        "    \"httpx>=0.23.0,<1.0.0\"\n",
        "\n",
        "# Install system dependencies\n",
        "!apt-get update -y\n",
        "!apt-get install -y tesseract-ocr ffmpeg\n"
      ],
      "metadata": {
        "colab": {
          "base_uri": "https://localhost:8080/"
        },
        "id": "FzdyRxJmMkQD",
        "outputId": "225730ae-5fec-4e60-dcbd-9f061ed44c9b"
      },
      "execution_count": 1,
      "outputs": [
        {
          "output_type": "stream",
          "name": "stdout",
          "text": [
            "\u001b[2K   \u001b[90m━━━━━━━━━━━━━━━━━━━━━━━━━━━━━━━━━━━━━━━━\u001b[0m \u001b[32m105.3/105.3 kB\u001b[0m \u001b[31m5.7 MB/s\u001b[0m eta \u001b[36m0:00:00\u001b[0m\n",
            "\u001b[2K   \u001b[90m━━━━━━━━━━━━━━━━━━━━━━━━━━━━━━━━━━━━━━━━\u001b[0m \u001b[32m32.9/32.9 MB\u001b[0m \u001b[31m21.1 MB/s\u001b[0m eta \u001b[36m0:00:00\u001b[0m\n",
            "\u001b[2K   \u001b[90m━━━━━━━━━━━━━━━━━━━━━━━━━━━━━━━━━━━━━━━━\u001b[0m \u001b[32m363.4/363.4 MB\u001b[0m \u001b[31m3.7 MB/s\u001b[0m eta \u001b[36m0:00:00\u001b[0m\n",
            "\u001b[2K   \u001b[90m━━━━━━━━━━━━━━━━━━━━━━━━━━━━━━━━━━━━━━━━\u001b[0m \u001b[32m13.8/13.8 MB\u001b[0m \u001b[31m29.7 MB/s\u001b[0m eta \u001b[36m0:00:00\u001b[0m\n",
            "\u001b[2K   \u001b[90m━━━━━━━━━━━━━━━━━━━━━━━━━━━━━━━━━━━━━━━━\u001b[0m \u001b[32m24.6/24.6 MB\u001b[0m \u001b[31m60.3 MB/s\u001b[0m eta \u001b[36m0:00:00\u001b[0m\n",
            "\u001b[2K   \u001b[90m━━━━━━━━━━━━━━━━━━━━━━━━━━━━━━━━━━━━━━━━\u001b[0m \u001b[32m883.7/883.7 kB\u001b[0m \u001b[31m39.8 MB/s\u001b[0m eta \u001b[36m0:00:00\u001b[0m\n",
            "\u001b[2K   \u001b[90m━━━━━━━━━━━━━━━━━━━━━━━━━━━━━━━━━━━━━━━━\u001b[0m \u001b[32m664.8/664.8 MB\u001b[0m \u001b[31m2.8 MB/s\u001b[0m eta \u001b[36m0:00:00\u001b[0m\n",
            "\u001b[2K   \u001b[90m━━━━━━━━━━━━━━━━━━━━━━━━━━━━━━━━━━━━━━━━\u001b[0m \u001b[32m211.5/211.5 MB\u001b[0m \u001b[31m5.8 MB/s\u001b[0m eta \u001b[36m0:00:00\u001b[0m\n",
            "\u001b[2K   \u001b[90m━━━━━━━━━━━━━━━━━━━━━━━━━━━━━━━━━━━━━━━━\u001b[0m \u001b[32m56.3/56.3 MB\u001b[0m \u001b[31m11.5 MB/s\u001b[0m eta \u001b[36m0:00:00\u001b[0m\n",
            "\u001b[2K   \u001b[90m━━━━━━━━━━━━━━━━━━━━━━━━━━━━━━━━━━━━━━━━\u001b[0m \u001b[32m127.9/127.9 MB\u001b[0m \u001b[31m8.1 MB/s\u001b[0m eta \u001b[36m0:00:00\u001b[0m\n",
            "\u001b[2K   \u001b[90m━━━━━━━━━━━━━━━━━━━━━━━━━━━━━━━━━━━━━━━━\u001b[0m \u001b[32m207.5/207.5 MB\u001b[0m \u001b[31m6.0 MB/s\u001b[0m eta \u001b[36m0:00:00\u001b[0m\n",
            "\u001b[2K   \u001b[90m━━━━━━━━━━━━━━━━━━━━━━━━━━━━━━━━━━━━━━━━\u001b[0m \u001b[32m21.1/21.1 MB\u001b[0m \u001b[31m91.9 MB/s\u001b[0m eta \u001b[36m0:00:00\u001b[0m\n",
            "\u001b[2K   \u001b[90m━━━━━━━━━━━━━━━━━━━━━━━━━━━━━━━━━━━━━━━━\u001b[0m \u001b[32m939.4/939.4 kB\u001b[0m \u001b[31m61.2 MB/s\u001b[0m eta \u001b[36m0:00:00\u001b[0m\n",
            "\u001b[2K   \u001b[90m━━━━━━━━━━━━━━━━━━━━━━━━━━━━━━━━━━━━━━━━\u001b[0m \u001b[32m2.1/2.1 MB\u001b[0m \u001b[31m86.0 MB/s\u001b[0m eta \u001b[36m0:00:00\u001b[0m\n",
            "Get:1 https://cloud.r-project.org/bin/linux/ubuntu jammy-cran40/ InRelease [3,632 B]\n",
            "Get:2 https://developer.download.nvidia.com/compute/cuda/repos/ubuntu2204/x86_64  InRelease [1,581 B]\n",
            "Get:3 http://security.ubuntu.com/ubuntu jammy-security InRelease [129 kB]\n",
            "Hit:4 http://archive.ubuntu.com/ubuntu jammy InRelease\n",
            "Get:5 https://cloud.r-project.org/bin/linux/ubuntu jammy-cran40/ Packages [77.5 kB]\n",
            "Get:6 https://r2u.stat.illinois.edu/ubuntu jammy InRelease [6,555 B]\n",
            "Get:7 https://developer.download.nvidia.com/compute/cuda/repos/ubuntu2204/x86_64  Packages [1,659 kB]\n",
            "Get:8 http://archive.ubuntu.com/ubuntu jammy-updates InRelease [128 kB]\n",
            "Hit:9 https://ppa.launchpadcontent.net/deadsnakes/ppa/ubuntu jammy InRelease\n",
            "Get:10 https://r2u.stat.illinois.edu/ubuntu jammy/main amd64 Packages [2,715 kB]\n",
            "Hit:11 https://ppa.launchpadcontent.net/graphics-drivers/ppa/ubuntu jammy InRelease\n",
            "Hit:12 https://ppa.launchpadcontent.net/ubuntugis/ppa/ubuntu jammy InRelease\n",
            "Get:13 http://archive.ubuntu.com/ubuntu jammy-backports InRelease [127 kB]\n",
            "Get:14 http://security.ubuntu.com/ubuntu jammy-security/universe amd64 Packages [1,244 kB]\n",
            "Get:15 https://r2u.stat.illinois.edu/ubuntu jammy/main all Packages [8,910 kB]\n",
            "Get:16 http://archive.ubuntu.com/ubuntu jammy-updates/main amd64 Packages [3,200 kB]\n",
            "Get:17 http://archive.ubuntu.com/ubuntu jammy-updates/universe amd64 Packages [1,544 kB]\n",
            "Get:18 http://archive.ubuntu.com/ubuntu jammy-updates/restricted amd64 Packages [4,420 kB]\n",
            "Get:19 http://archive.ubuntu.com/ubuntu jammy-updates/multiverse amd64 Packages [55.7 kB]\n",
            "Fetched 24.2 MB in 3s (7,588 kB/s)\n",
            "Reading package lists... Done\n",
            "W: Skipping acquire of configured file 'main/source/Sources' as repository 'https://r2u.stat.illinois.edu/ubuntu jammy InRelease' does not seem to provide it (sources.list entry misspelt?)\n",
            "Reading package lists... Done\n",
            "Building dependency tree... Done\n",
            "Reading state information... Done\n",
            "tesseract-ocr is already the newest version (4.1.1-2.1build1).\n",
            "ffmpeg is already the newest version (7:4.4.2-0ubuntu0.22.04.1).\n",
            "0 upgraded, 0 newly installed, 0 to remove and 43 not upgraded.\n"
          ]
        }
      ]
    },
    {
      "cell_type": "code",
      "source": [
        "\n",
        "# ------------------------- 📁 CHOOSE INPUT MODE -------------------------\n",
        "import os\n",
        "from google.colab import drive\n",
        "from google.colab import files\n",
        "\n",
        "use_drive = input(\"Use Google Drive? (yes/no): \").strip().lower()\n",
        "\n",
        "if use_drive == 'yes':\n",
        "    drive.mount('/content/drive')\n",
        "    base_path = input(\"Enter full path to your video folder in Drive (e.g., /content/drive/MyDrive/material): \").strip()\n",
        "else:\n",
        "    upload_path = \"/content/uploaded_videos\"\n",
        "    os.makedirs(upload_path, exist_ok=True)\n",
        "    uploaded = files.upload()\n",
        "    for fname in uploaded.keys():\n",
        "        os.rename(fname, os.path.join(upload_path, fname))\n",
        "    base_path = upload_path\n",
        "\n",
        "print(f\"✅ Scanning folder: {base_path}\")\n"
      ],
      "metadata": {
        "colab": {
          "base_uri": "https://localhost:8080/",
          "height": 110
        },
        "id": "cZ5BFehPNRy1",
        "outputId": "ac8ef635-9434-4ba7-e35f-f08c6ea6877c"
      },
      "execution_count": 5,
      "outputs": [
        {
          "name": "stdout",
          "output_type": "stream",
          "text": [
            "Use Google Drive? (yes/no): no\n"
          ]
        },
        {
          "output_type": "display_data",
          "data": {
            "text/plain": [
              "<IPython.core.display.HTML object>"
            ],
            "text/html": [
              "\n",
              "     <input type=\"file\" id=\"files-126dbf89-2c26-4a23-914d-1262ec1ac59c\" name=\"files[]\" multiple disabled\n",
              "        style=\"border:none\" />\n",
              "     <output id=\"result-126dbf89-2c26-4a23-914d-1262ec1ac59c\">\n",
              "      Upload widget is only available when the cell has been executed in the\n",
              "      current browser session. Please rerun this cell to enable.\n",
              "      </output>\n",
              "      <script>// Copyright 2017 Google LLC\n",
              "//\n",
              "// Licensed under the Apache License, Version 2.0 (the \"License\");\n",
              "// you may not use this file except in compliance with the License.\n",
              "// You may obtain a copy of the License at\n",
              "//\n",
              "//      http://www.apache.org/licenses/LICENSE-2.0\n",
              "//\n",
              "// Unless required by applicable law or agreed to in writing, software\n",
              "// distributed under the License is distributed on an \"AS IS\" BASIS,\n",
              "// WITHOUT WARRANTIES OR CONDITIONS OF ANY KIND, either express or implied.\n",
              "// See the License for the specific language governing permissions and\n",
              "// limitations under the License.\n",
              "\n",
              "/**\n",
              " * @fileoverview Helpers for google.colab Python module.\n",
              " */\n",
              "(function(scope) {\n",
              "function span(text, styleAttributes = {}) {\n",
              "  const element = document.createElement('span');\n",
              "  element.textContent = text;\n",
              "  for (const key of Object.keys(styleAttributes)) {\n",
              "    element.style[key] = styleAttributes[key];\n",
              "  }\n",
              "  return element;\n",
              "}\n",
              "\n",
              "// Max number of bytes which will be uploaded at a time.\n",
              "const MAX_PAYLOAD_SIZE = 100 * 1024;\n",
              "\n",
              "function _uploadFiles(inputId, outputId) {\n",
              "  const steps = uploadFilesStep(inputId, outputId);\n",
              "  const outputElement = document.getElementById(outputId);\n",
              "  // Cache steps on the outputElement to make it available for the next call\n",
              "  // to uploadFilesContinue from Python.\n",
              "  outputElement.steps = steps;\n",
              "\n",
              "  return _uploadFilesContinue(outputId);\n",
              "}\n",
              "\n",
              "// This is roughly an async generator (not supported in the browser yet),\n",
              "// where there are multiple asynchronous steps and the Python side is going\n",
              "// to poll for completion of each step.\n",
              "// This uses a Promise to block the python side on completion of each step,\n",
              "// then passes the result of the previous step as the input to the next step.\n",
              "function _uploadFilesContinue(outputId) {\n",
              "  const outputElement = document.getElementById(outputId);\n",
              "  const steps = outputElement.steps;\n",
              "\n",
              "  const next = steps.next(outputElement.lastPromiseValue);\n",
              "  return Promise.resolve(next.value.promise).then((value) => {\n",
              "    // Cache the last promise value to make it available to the next\n",
              "    // step of the generator.\n",
              "    outputElement.lastPromiseValue = value;\n",
              "    return next.value.response;\n",
              "  });\n",
              "}\n",
              "\n",
              "/**\n",
              " * Generator function which is called between each async step of the upload\n",
              " * process.\n",
              " * @param {string} inputId Element ID of the input file picker element.\n",
              " * @param {string} outputId Element ID of the output display.\n",
              " * @return {!Iterable<!Object>} Iterable of next steps.\n",
              " */\n",
              "function* uploadFilesStep(inputId, outputId) {\n",
              "  const inputElement = document.getElementById(inputId);\n",
              "  inputElement.disabled = false;\n",
              "\n",
              "  const outputElement = document.getElementById(outputId);\n",
              "  outputElement.innerHTML = '';\n",
              "\n",
              "  const pickedPromise = new Promise((resolve) => {\n",
              "    inputElement.addEventListener('change', (e) => {\n",
              "      resolve(e.target.files);\n",
              "    });\n",
              "  });\n",
              "\n",
              "  const cancel = document.createElement('button');\n",
              "  inputElement.parentElement.appendChild(cancel);\n",
              "  cancel.textContent = 'Cancel upload';\n",
              "  const cancelPromise = new Promise((resolve) => {\n",
              "    cancel.onclick = () => {\n",
              "      resolve(null);\n",
              "    };\n",
              "  });\n",
              "\n",
              "  // Wait for the user to pick the files.\n",
              "  const files = yield {\n",
              "    promise: Promise.race([pickedPromise, cancelPromise]),\n",
              "    response: {\n",
              "      action: 'starting',\n",
              "    }\n",
              "  };\n",
              "\n",
              "  cancel.remove();\n",
              "\n",
              "  // Disable the input element since further picks are not allowed.\n",
              "  inputElement.disabled = true;\n",
              "\n",
              "  if (!files) {\n",
              "    return {\n",
              "      response: {\n",
              "        action: 'complete',\n",
              "      }\n",
              "    };\n",
              "  }\n",
              "\n",
              "  for (const file of files) {\n",
              "    const li = document.createElement('li');\n",
              "    li.append(span(file.name, {fontWeight: 'bold'}));\n",
              "    li.append(span(\n",
              "        `(${file.type || 'n/a'}) - ${file.size} bytes, ` +\n",
              "        `last modified: ${\n",
              "            file.lastModifiedDate ? file.lastModifiedDate.toLocaleDateString() :\n",
              "                                    'n/a'} - `));\n",
              "    const percent = span('0% done');\n",
              "    li.appendChild(percent);\n",
              "\n",
              "    outputElement.appendChild(li);\n",
              "\n",
              "    const fileDataPromise = new Promise((resolve) => {\n",
              "      const reader = new FileReader();\n",
              "      reader.onload = (e) => {\n",
              "        resolve(e.target.result);\n",
              "      };\n",
              "      reader.readAsArrayBuffer(file);\n",
              "    });\n",
              "    // Wait for the data to be ready.\n",
              "    let fileData = yield {\n",
              "      promise: fileDataPromise,\n",
              "      response: {\n",
              "        action: 'continue',\n",
              "      }\n",
              "    };\n",
              "\n",
              "    // Use a chunked sending to avoid message size limits. See b/62115660.\n",
              "    let position = 0;\n",
              "    do {\n",
              "      const length = Math.min(fileData.byteLength - position, MAX_PAYLOAD_SIZE);\n",
              "      const chunk = new Uint8Array(fileData, position, length);\n",
              "      position += length;\n",
              "\n",
              "      const base64 = btoa(String.fromCharCode.apply(null, chunk));\n",
              "      yield {\n",
              "        response: {\n",
              "          action: 'append',\n",
              "          file: file.name,\n",
              "          data: base64,\n",
              "        },\n",
              "      };\n",
              "\n",
              "      let percentDone = fileData.byteLength === 0 ?\n",
              "          100 :\n",
              "          Math.round((position / fileData.byteLength) * 100);\n",
              "      percent.textContent = `${percentDone}% done`;\n",
              "\n",
              "    } while (position < fileData.byteLength);\n",
              "  }\n",
              "\n",
              "  // All done.\n",
              "  yield {\n",
              "    response: {\n",
              "      action: 'complete',\n",
              "    }\n",
              "  };\n",
              "}\n",
              "\n",
              "scope.google = scope.google || {};\n",
              "scope.google.colab = scope.google.colab || {};\n",
              "scope.google.colab._files = {\n",
              "  _uploadFiles,\n",
              "  _uploadFilesContinue,\n",
              "};\n",
              "})(self);\n",
              "</script> "
            ]
          },
          "metadata": {}
        },
        {
          "output_type": "stream",
          "name": "stdout",
          "text": [
            "Saving food_intro_1.mp4 to food_intro_1.mp4\n",
            "✅ Scanning folder: /content/uploaded_videos\n"
          ]
        }
      ]
    },
    {
      "cell_type": "code",
      "source": [
        "# ------------------------- 🧠 IMPORTS -------------------------\n",
        "import librosa\n",
        "import cv2\n",
        "import pandas as pd\n",
        "import numpy as np\n",
        "import torch\n",
        "from moviepy.editor import VideoFileClip\n",
        "import torchvision.transforms as transforms\n",
        "import torchvision.models as models\n",
        "import tempfile\n",
        "\n",
        "import pandas as pd\n",
        "import numpy as np\n",
        "import librosa\n",
        "from moviepy.editor import VideoFileClip\n",
        "import tempfile\n",
        "import textstat"
      ],
      "metadata": {
        "colab": {
          "base_uri": "https://localhost:8080/"
        },
        "id": "76rQez1lOJXt",
        "outputId": "58007d50-7e2a-457c-d833-26cb687f499e"
      },
      "execution_count": 6,
      "outputs": [
        {
          "output_type": "stream",
          "name": "stderr",
          "text": [
            "WARNING:py.warnings:/usr/local/lib/python3.11/dist-packages/moviepy/video/io/sliders.py:61: SyntaxWarning: \"is\" with a literal. Did you mean \"==\"?\n",
            "  if event.key is 'enter':\n",
            "\n"
          ]
        }
      ]
    },
    {
      "cell_type": "markdown",
      "source": [
        "EDITSSSS\n"
      ],
      "metadata": {
        "id": "HKG1r-QfOiX3"
      }
    },
    {
      "cell_type": "code",
      "source": [
        "\n",
        "# Load pretrained ResNet-18\n",
        "resnet_model = resnet18(pretrained=True)\n",
        "resnet_model.eval()\n",
        "\n",
        "# Image transform for ResNet\n",
        "transform = transforms.Compose([\n",
        "    transforms.Resize((224, 224)),\n",
        "    transforms.ToTensor(),\n",
        "    transforms.Normalize(\n",
        "        mean=[0.485, 0.456, 0.406],  # ImageNet mean\n",
        "        std=[0.229, 0.224, 0.225]    # ImageNet std\n",
        "    )\n",
        "])"
      ],
      "metadata": {
        "id": "mf8gTZEBR3mG"
      },
      "execution_count": null,
      "outputs": []
    },
    {
      "cell_type": "code",
      "source": [
        "# ------------------------- 📊 SCORING FUNCTIONS -------------------------\n",
        "\n",
        "def get_audio_score(video_path):\n",
        "    \"\"\"Auditory score based on RMS energy of audio.\"\"\"\n",
        "    try:\n",
        "        with tempfile.NamedTemporaryFile(suffix=\".wav\") as tmp_audio:\n",
        "            videoclip = VideoFileClip(video_path)\n",
        "            audioclip = videoclip.audio\n",
        "            audioclip.write_audiofile(tmp_audio.name, verbose=False, logger=None)\n",
        "            y, sr = librosa.load(tmp_audio.name, sr=None)\n",
        "            rms = librosa.feature.rms(y=y)\n",
        "            score = np.mean(rms) * 1000  # Scale to 0-100 range\n",
        "            return round(min(score, 100.0), 2)\n",
        "    except Exception as e:\n",
        "        print(f\"❌ Audio score failed for {video_path}: {e}\")\n",
        "        return 0.0\n",
        "\n",
        "def get_visual_score(video_path):\n",
        "    \"\"\"Visual score: duration in seconds normalized to 0–100.\"\"\"\n",
        "    try:\n",
        "        clip = VideoFileClip(video_path)\n",
        "        duration = clip.duration\n",
        "        score = min(duration / 10.0, 100.0)  # e.g., 100s duration = score 100\n",
        "        return round(score, 2)\n",
        "    except Exception as e:\n",
        "        print(f\"❌ Visual score failed for {video_path}: {e}\")\n",
        "        return 0.0\n",
        "\n",
        "def get_textual_score(video_path):\n",
        "    \"\"\"Textual score using FPS as proxy for slide/text density.\"\"\"\n",
        "    try:\n",
        "        clip = VideoFileClip(video_path)\n",
        "        fps = clip.fps\n",
        "        return round(min(fps, 100.0), 2)\n",
        "    except Exception as e:\n",
        "        print(f\"❌ Textual score failed for {video_path}: {e}\")\n",
        "        return 0.0\n"
      ],
      "metadata": {
        "id": "_yr9GobiQygm"
      },
      "execution_count": null,
      "outputs": []
    },
    {
      "cell_type": "code",
      "source": [
        "# ------------------------- 📁 RECURSIVELY SCAN FOLDER -------------------------\n",
        "\n",
        "results = []\n",
        "\n",
        "for root, dirs, files in os.walk(base_path):\n",
        "    for file in files:\n",
        "        file_path = os.path.join(root, file)\n",
        "        rel_path = os.path.relpath(file_path, base_path)\n",
        "\n",
        "        print(f\"🔍 Processing: {rel_path}\")\n",
        "\n",
        "        if file.endswith(\".mp4\"):\n",
        "            visual = get_visual_score(file_path)\n",
        "            auditory = get_audio_score(file_path)\n",
        "            textual = get_textual_score(file_path)\n",
        "            flesch = 0.0\n",
        "        elif file.endswith(\".txt\"):\n",
        "            visual = 0.0\n",
        "            auditory = 0.0\n",
        "            textual = 1.0\n",
        "            with open(file_path, \"r\", encoding=\"utf-8\") as f:\n",
        "                content = f.read()\n",
        "            flesch = calculate_readability_metrics(content)\n",
        "        else:\n",
        "            continue\n",
        "\n",
        "        results.append({\n",
        "            \"File\": rel_path,\n",
        "            \"Visual\": visual,\n",
        "            \"Auditory\": auditory,\n",
        "            \"Textual\": textual,\n",
        "            \"FleschScore\": flesch\n",
        "        })\n"
      ],
      "metadata": {
        "id": "IQohlbdoQ93X"
      },
      "execution_count": null,
      "outputs": []
    },
    {
      "cell_type": "code",
      "source": [
        "# ------------------------- 📊 DISPLAY DATA -------------------------\n",
        "df_scores = pd.DataFrame(results)\n",
        "df_scores = df_scores[[\"File\", \"Visual\", \"Auditory\", \"Textual\", \"FleschScore\"]]\n",
        "print(\"\\n📊 Final Scores DataFrame:\")\n",
        "print(df_scores)\n"
      ],
      "metadata": {
        "id": "YdCZMozvQ_BX"
      },
      "execution_count": null,
      "outputs": []
    },
    {
      "cell_type": "markdown",
      "source": [
        "old"
      ],
      "metadata": {
        "id": "ikx5TpnXQ8Px"
      }
    },
    {
      "cell_type": "code",
      "execution_count": null,
      "metadata": {
        "colab": {
          "base_uri": "https://localhost:8080/"
        },
        "id": "BXWEEYBeVMHX",
        "outputId": "5e16423f-55eb-47b9-ad28-4c55616a1b46"
      },
      "outputs": [
        {
          "output_type": "stream",
          "name": "stderr",
          "text": [
            "WARNING:py.warnings:/usr/local/lib/python3.11/dist-packages/moviepy/video/io/sliders.py:61: SyntaxWarning: \"is\" with a literal. Did you mean \"==\"?\n",
            "  if event.key is 'enter':\n",
            "\n",
            "WARNING:py.warnings:/usr/local/lib/python3.11/dist-packages/torchvision/models/_utils.py:208: UserWarning: The parameter 'pretrained' is deprecated since 0.13 and may be removed in the future, please use 'weights' instead.\n",
            "  warnings.warn(\n",
            "\n",
            "WARNING:py.warnings:/usr/local/lib/python3.11/dist-packages/torchvision/models/_utils.py:223: UserWarning: Arguments other than a weight enum or `None` for 'weights' are deprecated since 0.13 and may be removed in the future. The current behavior is equivalent to passing `weights=ResNet18_Weights.IMAGENET1K_V1`. You can also use `weights=ResNet18_Weights.DEFAULT` to get the most up-to-date weights.\n",
            "  warnings.warn(msg)\n",
            "\n"
          ]
        },
        {
          "output_type": "stream",
          "name": "stdout",
          "text": [
            "🎥 Processing video: nutrients2.mp4\n"
          ]
        },
        {
          "output_type": "stream",
          "name": "stderr",
          "text": [
            "Downloading: \"https://download.pytorch.org/models/resnet18-f37072fd.pth\" to /root/.cache/torch/hub/checkpoints/resnet18-f37072fd.pth\n",
            "100%|██████████| 44.7M/44.7M [00:00<00:00, 135MB/s]\n",
            "WARNING:py.warnings:/usr/local/lib/python3.11/dist-packages/torchvision/models/_utils.py:208: UserWarning: The parameter 'pretrained' is deprecated since 0.13 and may be removed in the future, please use 'weights' instead.\n",
            "  warnings.warn(\n",
            "\n",
            "WARNING:py.warnings:/usr/local/lib/python3.11/dist-packages/torchvision/models/_utils.py:223: UserWarning: Arguments other than a weight enum or `None` for 'weights' are deprecated since 0.13 and may be removed in the future. The current behavior is equivalent to passing `weights=ResNet18_Weights.IMAGENET1K_V1`. You can also use `weights=ResNet18_Weights.DEFAULT` to get the most up-to-date weights.\n",
            "  warnings.warn(msg)\n",
            "\n"
          ]
        },
        {
          "output_type": "stream",
          "name": "stdout",
          "text": [
            "🎥 Processing video: nutrients3.mp4\n",
            "🎥 Processing video: food_intro_3.mp4\n",
            "               File  Visual    Auditory  Textual\n",
            "0    nutrients2.mp4   40.46  100.000000     30.0\n",
            "1    nutrients3.mp4   27.40   57.119999     30.0\n",
            "2  food_intro_3.mp4   28.70   45.450001     30.0\n"
          ]
        }
      ],
      "source": [
        "# ✅ Step 2: Imports\n",
        "import os\n",
        "import librosa\n",
        "import cv2\n",
        "import pandas as pd\n",
        "import numpy as np\n",
        "import torch\n",
        "from moviepy.editor import VideoFileClip\n",
        "import torchvision.transforms as transforms\n",
        "import torchvision.models as models\n",
        "import tempfile\n",
        "\n",
        "# ✅ Step 3: Set path to your Drive folder\n",
        "materials_path = \"/content/drive/MyDrive/material\"\n",
        "\n",
        "# ✅ Step 4: Scoring functions\n",
        "\n",
        "def get_visual_score(video_path):\n",
        "    try:\n",
        "        model = models.resnet18(pretrained=True)\n",
        "        model.eval()\n",
        "\n",
        "        transform = transforms.Compose([\n",
        "            transforms.ToPILImage(),\n",
        "            transforms.Resize((224, 224)),\n",
        "            transforms.ToTensor(),\n",
        "        ])\n",
        "\n",
        "        cap = cv2.VideoCapture(video_path)\n",
        "        frame_count = int(cap.get(cv2.CAP_PROP_FRAME_COUNT))\n",
        "        scores = []\n",
        "        frame_interval = max(1, frame_count // 10)\n",
        "\n",
        "        for i in range(0, frame_count, frame_interval):\n",
        "            cap.set(cv2.CAP_PROP_POS_FRAMES, i)\n",
        "            ret, frame = cap.read()\n",
        "            if ret:\n",
        "                img = cv2.cvtColor(frame, cv2.COLOR_BGR2RGB)\n",
        "                input_tensor = transform(img).unsqueeze(0)\n",
        "                with torch.no_grad():\n",
        "                    output = model(input_tensor)\n",
        "                    score = torch.nn.functional.softmax(output[0], dim=0).max().item()\n",
        "                    scores.append(score)\n",
        "        cap.release()\n",
        "        return round(np.mean(scores) * 100, 2)\n",
        "    except Exception as e:\n",
        "        print(f\"❌ Visual processing failed for {video_path}: {e}\")\n",
        "        return 0.0\n",
        "\n",
        "def get_audio_score(video_path):\n",
        "    try:\n",
        "        with tempfile.NamedTemporaryFile(suffix=\".wav\") as tmp_audio:\n",
        "            videoclip = VideoFileClip(video_path)\n",
        "            audioclip = videoclip.audio\n",
        "            audioclip.write_audiofile(tmp_audio.name, verbose=False, logger=None)\n",
        "            y, sr = librosa.load(tmp_audio.name, sr=None)\n",
        "            rms = librosa.feature.rms(y=y)\n",
        "            score = np.mean(rms) * 1000  # Scaled RMS value\n",
        "            return round(min(score, 100.0), 2)\n",
        "    except Exception as e:\n",
        "        print(f\"❌ Audio processing failed for {video_path}: {e}\")\n",
        "        return 0.0\n",
        "\n",
        "def get_textual_score(video_path):\n",
        "    try:\n",
        "        clip = VideoFileClip(video_path)\n",
        "        duration = clip.duration\n",
        "        fps = clip.fps\n",
        "        frame_count = int(duration * fps)\n",
        "        return round(min(frame_count / duration, 100.0), 2)  # proxy for text/slide density\n",
        "    except Exception as e:\n",
        "        print(f\"❌ Textual processing failed for {video_path}: {e}\")\n",
        "        return 0.0\n",
        "\n",
        "# ✅ Step 5: Recursively scan videos and score\n",
        "results = []\n",
        "\n",
        "for root, dirs, files in os.walk(materials_path):\n",
        "    for file in files:\n",
        "        if file.endswith(\".mp4\"):\n",
        "            file_path = os.path.join(root, file)\n",
        "            rel_path = os.path.relpath(file_path, materials_path)\n",
        "            print(f\"🎥 Processing video: {rel_path}\")\n",
        "            visual = get_visual_score(file_path)\n",
        "            auditory = get_audio_score(file_path)\n",
        "            textual = get_textual_score(file_path)\n",
        "            results.append({\n",
        "                \"File\": rel_path,\n",
        "                \"Visual\": visual,\n",
        "                \"Auditory\": auditory,\n",
        "                \"Textual\": textual,\n",
        "            })\n",
        "\n",
        "# ✅ Step 6: Create DataFrame and display\n",
        "df_scores = pd.DataFrame(results)\n",
        "print(df_scores)\n",
        "\n",
        "# Optionally save\n",
        "# df_scores.to_csv(\"video_scores.csv\", index=False)\n"
      ]
    },
    {
      "cell_type": "code",
      "execution_count": null,
      "metadata": {
        "id": "mfB2ISyjVeKN"
      },
      "outputs": [],
      "source": []
    },
    {
      "cell_type": "markdown",
      "metadata": {
        "id": "M67e-77Nah0o"
      },
      "source": [
        "*code for checking if cn calculate content from video*"
      ]
    },
    {
      "cell_type": "markdown",
      "metadata": {
        "id": "iMKTT_dWblBh"
      },
      "source": [
        "checking including ip and readability"
      ]
    },
    {
      "cell_type": "code",
      "execution_count": null,
      "metadata": {
        "colab": {
          "base_uri": "https://localhost:8080/"
        },
        "id": "ye1z7kT_amUK",
        "outputId": "8cc25a6e-492f-4046-c10f-310bc158c8a4"
      },
      "outputs": [
        {
          "output_type": "stream",
          "name": "stdout",
          "text": [
            "Reading package lists... Done\n",
            "Building dependency tree... Done\n",
            "Reading state information... Done\n",
            "tesseract-ocr is already the newest version (4.1.1-2.1build1).\n",
            "0 upgraded, 0 newly installed, 0 to remove and 34 not upgraded.\n",
            "Requirement already satisfied: pytesseract in /usr/local/lib/python3.11/dist-packages (0.3.13)\n",
            "Requirement already satisfied: packaging>=21.3 in /usr/local/lib/python3.11/dist-packages (from pytesseract) (24.2)\n",
            "Requirement already satisfied: Pillow>=8.0.0 in /usr/local/lib/python3.11/dist-packages (from pytesseract) (11.1.0)\n"
          ]
        }
      ],
      "source": [
        "!sudo apt install tesseract-ocr\n",
        "!pip install pytesseract"
      ]
    },
    {
      "cell_type": "code",
      "execution_count": null,
      "metadata": {
        "colab": {
          "base_uri": "https://localhost:8080/"
        },
        "id": "H8o8dZHL8TPo",
        "outputId": "ddc2e603-3a5f-4c03-da59-2e68254cfc62"
      },
      "outputs": [
        {
          "output_type": "stream",
          "name": "stdout",
          "text": [
            "Requirement already satisfied: textstat in /usr/local/lib/python3.11/dist-packages (0.7.5)\n",
            "Requirement already satisfied: pyphen in /usr/local/lib/python3.11/dist-packages (from textstat) (0.17.2)\n",
            "Requirement already satisfied: cmudict in /usr/local/lib/python3.11/dist-packages (from textstat) (1.0.32)\n",
            "Requirement already satisfied: setuptools in /usr/local/lib/python3.11/dist-packages (from textstat) (75.2.0)\n",
            "Requirement already satisfied: importlib-metadata>=5 in /usr/local/lib/python3.11/dist-packages (from cmudict->textstat) (8.6.1)\n",
            "Requirement already satisfied: importlib-resources>=5 in /usr/local/lib/python3.11/dist-packages (from cmudict->textstat) (6.5.2)\n",
            "Requirement already satisfied: zipp>=3.20 in /usr/local/lib/python3.11/dist-packages (from importlib-metadata>=5->cmudict->textstat) (3.21.0)\n"
          ]
        }
      ],
      "source": [
        "!pip install textstat"
      ]
    },
    {
      "cell_type": "code",
      "execution_count": null,
      "metadata": {
        "id": "ZaT2VTFE8mzO"
      },
      "outputs": [],
      "source": [
        "import textstat\n",
        "\n",
        "def calculate_readability_metrics(text):\n",
        "    try:\n",
        "        flesch = textstat.flesch_reading_ease(text)\n",
        "        return round(flesch, 2)\n",
        "    except Exception as e:\n",
        "        print(f\"❌ Readability calc failed: {e}\")\n",
        "        return 0.0, 0.0\n"
      ]
    },
    {
      "cell_type": "code",
      "execution_count": null,
      "metadata": {
        "id": "4QI2UvqwwNap"
      },
      "outputs": [],
      "source": [
        "import pytesseract\n",
        "\n",
        "def extract_text_from_frames(video_path, frame_interval=30):\n",
        "    try:\n",
        "        cap = cv2.VideoCapture(video_path)\n",
        "        text_data = \"\"\n",
        "        frame_count = int(cap.get(cv2.CAP_PROP_FRAME_COUNT))\n",
        "        for i in range(0, frame_count, frame_interval):\n",
        "            cap.set(cv2.CAP_PROP_POS_FRAMES, i)\n",
        "            ret, frame = cap.read()\n",
        "            if ret:\n",
        "                gray = cv2.cvtColor(frame, cv2.COLOR_BGR2GRAY)\n",
        "                thresh = cv2.threshold(gray, 150, 255, cv2.THRESH_BINARY_INV | cv2.THRESH_OTSU)[1]\n",
        "                text = pytesseract.image_to_string(thresh)\n",
        "                text_data += text + \" \"\n",
        "\n",
        "            # print(text_data)\n",
        "        cap.release()\n",
        "        return text_data.strip()\n",
        "    except Exception as e:\n",
        "        print(f\"❌ OCR failed: {e}\")\n",
        "        return \"\"\n"
      ]
    },
    {
      "cell_type": "code",
      "execution_count": null,
      "metadata": {
        "colab": {
          "base_uri": "https://localhost:8080/"
        },
        "id": "2CpKdn5ZYsDr",
        "outputId": "82dc23c7-55eb-441d-aeb2-ca6695482865"
      },
      "outputs": [
        {
          "metadata": {
            "tags": null
          },
          "name": "stderr",
          "output_type": "stream",
          "text": [
            "WARNING:py.warnings:/usr/local/lib/python3.11/dist-packages/torchvision/models/_utils.py:208: UserWarning: The parameter 'pretrained' is deprecated since 0.13 and may be removed in the future, please use 'weights' instead.\n",
            "  warnings.warn(\n",
            "\n",
            "WARNING:py.warnings:/usr/local/lib/python3.11/dist-packages/torchvision/models/_utils.py:223: UserWarning: Arguments other than a weight enum or `None` for 'weights' are deprecated since 0.13 and may be removed in the future. The current behavior is equivalent to passing `weights=ResNet18_Weights.IMAGENET1K_V1`. You can also use `weights=ResNet18_Weights.DEFAULT` to get the most up-to-date weights.\n",
            "  warnings.warn(msg)\n",
            "\n"
          ]
        },
        {
          "metadata": {
            "tags": null
          },
          "name": "stdout",
          "output_type": "stream",
          "text": [
            "🎥 Processing video: nutrients2.mp4\n"
          ]
        },
        {
          "metadata": {
            "tags": null
          },
          "name": "stderr",
          "output_type": "stream",
          "text": [
            "WARNING:py.warnings:/usr/local/lib/python3.11/dist-packages/torchvision/models/_utils.py:208: UserWarning: The parameter 'pretrained' is deprecated since 0.13 and may be removed in the future, please use 'weights' instead.\n",
            "  warnings.warn(\n",
            "\n",
            "WARNING:py.warnings:/usr/local/lib/python3.11/dist-packages/torchvision/models/_utils.py:223: UserWarning: Arguments other than a weight enum or `None` for 'weights' are deprecated since 0.13 and may be removed in the future. The current behavior is equivalent to passing `weights=ResNet18_Weights.IMAGENET1K_V1`. You can also use `weights=ResNet18_Weights.DEFAULT` to get the most up-to-date weights.\n",
            "  warnings.warn(msg)\n",
            "\n"
          ]
        },
        {
          "metadata": {
            "tags": null
          },
          "name": "stdout",
          "output_type": "stream",
          "text": [
            "🎥 Processing video: nutrients3.mp4\n"
          ]
        },
        {
          "output_type": "stream",
          "name": "stderr",
          "text": [
            "WARNING:py.warnings:/usr/local/lib/python3.11/dist-packages/torchvision/models/_utils.py:208: UserWarning: The parameter 'pretrained' is deprecated since 0.13 and may be removed in the future, please use 'weights' instead.\n",
            "  warnings.warn(\n",
            "\n",
            "WARNING:py.warnings:/usr/local/lib/python3.11/dist-packages/torchvision/models/_utils.py:223: UserWarning: Arguments other than a weight enum or `None` for 'weights' are deprecated since 0.13 and may be removed in the future. The current behavior is equivalent to passing `weights=ResNet18_Weights.IMAGENET1K_V1`. You can also use `weights=ResNet18_Weights.DEFAULT` to get the most up-to-date weights.\n",
            "  warnings.warn(msg)\n",
            "\n"
          ]
        },
        {
          "output_type": "stream",
          "name": "stdout",
          "text": [
            "🎥 Processing video: food_intro_3.mp4\n",
            "               File  Visual    Auditory  \\\n",
            "0    nutrients2.mp4   40.46  100.000000   \n",
            "1    nutrients3.mp4   27.40   57.119999   \n",
            "2  food_intro_3.mp4   28.70   45.450001   \n",
            "\n",
            "                                             Textual  FleschScore  \\\n",
            "0  learnFatafat:\\n\\n> allagy\\n\\n \\n\f learnFatafat...        53.89   \n",
            "1  Pe bb Ie)\\n\\n \\n     \\n\\nThe three key food gr...        61.29   \n",
            "2  =p\\n\\nae ie pebbles.in\\n\\n6\". CBSE - Food: Whe...        91.61   \n",
            "\n",
            "   InfoProcessing  \n",
            "0            8.57  \n",
            "1            1.85  \n",
            "2            5.56  \n"
          ]
        }
      ],
      "source": [
        "# ✅ Step 5: Recursively scan videos and score (including Readability and IP)\n",
        "results = []\n",
        "\n",
        "for root, dirs, files in os.walk(materials_path):\n",
        "    for file in files:\n",
        "        if file.endswith(\".mp4\"):\n",
        "            file_path = os.path.join(root, file)\n",
        "            rel_path = os.path.relpath(file_path, materials_path)\n",
        "            print(f\"🎥 Processing video: {rel_path}\")\n",
        "\n",
        "            # Compute Visual, Audio, and Textual Scores\n",
        "            visual = get_visual_score(file_path)\n",
        "            auditory = get_audio_score(file_path)\n",
        "            textual = get_textual_score(file_path)\n",
        "\n",
        "            # OCR Text Extraction and Readability/IP Scores\n",
        "            ocr_text = extract_text_from_frames(file_path)\n",
        "            flesch, ip = calculate_readability_metrics(ocr_text)\n",
        "\n",
        "            # Store result\n",
        "            results.append({\n",
        "                \"File\": rel_path,\n",
        "                \"Visual\": visual,\n",
        "                \"Auditory\": auditory,\n",
        "                \"Textual\": ocr_text,\n",
        "                \"FleschScore\": flesch,\n",
        "                \"InfoProcessing\": ip\n",
        "            })\n",
        "\n",
        "# ✅ Step 6: Create DataFrame and display\n",
        "df_scores = pd.DataFrame(results)\n",
        "print(df_scores)"
      ]
    },
    {
      "cell_type": "code",
      "execution_count": null,
      "metadata": {
        "colab": {
          "background_save": true,
          "base_uri": "https://localhost:8080/"
        },
        "id": "v2c-AkwpiQBL",
        "outputId": "652f9481-3acf-4520-c6c3-a083cec08adb"
      },
      "outputs": [
        {
          "name": "stderr",
          "output_type": "stream",
          "text": [
            "WARNING:py.warnings:/usr/local/lib/python3.11/dist-packages/torchvision/models/_utils.py:208: UserWarning: The parameter 'pretrained' is deprecated since 0.13 and may be removed in the future, please use 'weights' instead.\n",
            "  warnings.warn(\n",
            "\n",
            "WARNING:py.warnings:/usr/local/lib/python3.11/dist-packages/torchvision/models/_utils.py:223: UserWarning: Arguments other than a weight enum or `None` for 'weights' are deprecated since 0.13 and may be removed in the future. The current behavior is equivalent to passing `weights=ResNet18_Weights.IMAGENET1K_V1`. You can also use `weights=ResNet18_Weights.DEFAULT` to get the most up-to-date weights.\n",
            "  warnings.warn(msg)\n",
            "\n"
          ]
        },
        {
          "name": "stdout",
          "output_type": "stream",
          "text": [
            "📁 Processing: nutrients3.mp4\n"
          ]
        },
        {
          "name": "stderr",
          "output_type": "stream",
          "text": [
            "WARNING:py.warnings:/usr/local/lib/python3.11/dist-packages/torchvision/models/_utils.py:208: UserWarning: The parameter 'pretrained' is deprecated since 0.13 and may be removed in the future, please use 'weights' instead.\n",
            "  warnings.warn(\n",
            "\n",
            "WARNING:py.warnings:/usr/local/lib/python3.11/dist-packages/torchvision/models/_utils.py:223: UserWarning: Arguments other than a weight enum or `None` for 'weights' are deprecated since 0.13 and may be removed in the future. The current behavior is equivalent to passing `weights=ResNet18_Weights.IMAGENET1K_V1`. You can also use `weights=ResNet18_Weights.DEFAULT` to get the most up-to-date weights.\n",
            "  warnings.warn(msg)\n",
            "\n"
          ]
        },
        {
          "name": "stdout",
          "output_type": "stream",
          "text": [
            "📁 Processing: nutrients2.mp4\n"
          ]
        },
        {
          "name": "stderr",
          "output_type": "stream",
          "text": [
            "WARNING:py.warnings:/usr/local/lib/python3.11/dist-packages/torchvision/models/_utils.py:208: UserWarning: The parameter 'pretrained' is deprecated since 0.13 and may be removed in the future, please use 'weights' instead.\n",
            "  warnings.warn(\n",
            "\n",
            "WARNING:py.warnings:/usr/local/lib/python3.11/dist-packages/torchvision/models/_utils.py:223: UserWarning: Arguments other than a weight enum or `None` for 'weights' are deprecated since 0.13 and may be removed in the future. The current behavior is equivalent to passing `weights=ResNet18_Weights.IMAGENET1K_V1`. You can also use `weights=ResNet18_Weights.DEFAULT` to get the most up-to-date weights.\n",
            "  warnings.warn(msg)\n",
            "\n"
          ]
        },
        {
          "name": "stdout",
          "output_type": "stream",
          "text": [
            "📁 Processing: food_intro_3.mp4\n",
            "               File  Visual    Auditory  Textual  FleschScore  InfoProcessing\n",
            "0    nutrients3.mp4   27.40   57.119999     30.0        61.29            1.85\n",
            "1    nutrients2.mp4   40.46  100.000000     30.0        53.89            8.57\n",
            "2  food_intro_3.mp4   28.70   45.450001     30.0        91.61            5.56\n"
          ]
        }
      ],
      "source": [
        "results = []\n",
        "\n",
        "for root, dirs, files in os.walk(materials_path):\n",
        "    for file in files:\n",
        "        if file.endswith((\".mp4\", \".txt\")):\n",
        "            file_path = os.path.join(root, file)\n",
        "            rel_path = os.path.relpath(file_path, materials_path)\n",
        "\n",
        "            print(f\"📁 Processing: {rel_path}\")\n",
        "\n",
        "            if file.endswith(\".mp4\"):\n",
        "                # 🎥 For video files\n",
        "                visual = get_visual_score(file_path)\n",
        "                auditory = get_audio_score(file_path)\n",
        "                textual = get_textual_score(file_path)\n",
        "\n",
        "                # Extract text from video frames and calculate metrics\n",
        "                ocr_text = extract_text_from_frames(file_path)\n",
        "                flesch, ip = calculate_readability_metrics(ocr_text)\n",
        "\n",
        "            elif file.endswith(\".txt\"):\n",
        "                # 📄 For text files\n",
        "                visual = 0.0\n",
        "                auditory = 0.0\n",
        "                textual = 1.0\n",
        "\n",
        "                # Read file content and calculate metrics\n",
        "                with open(file_path, \"r\", encoding=\"utf-8\") as f:\n",
        "                    text_content = f.read()\n",
        "                flesch, ip = calculate_readability_metrics(text_content)\n",
        "\n",
        "            # Store results\n",
        "            results.append({\n",
        "                \"File\": rel_path,\n",
        "                \"Visual\": round(visual, 2),\n",
        "                \"Auditory\": round(auditory, 2),\n",
        "                \"Textual\": round(textual, 2),\n",
        "                \"FleschScore\": round(flesch, 2),\n",
        "                \"InfoProcessing\": round(ip, 2)\n",
        "            })\n",
        "\n",
        "# ✅ Step 6: Create DataFrame and display\n",
        "df_scores = pd.DataFrame(results)\n",
        "df_scores = df_scores[[\"File\", \"Visual\", \"Auditory\", \"Textual\", \"FleschScore\", \"InfoProcessing\"]]\n",
        "print(df_scores)\n",
        "\n",
        "# Optional: Save to CSV\n",
        "# df_scores.to_csv(\"/content/drive/MyDrive/video_scores.csv\", index=False)\n"
      ]
    },
    {
      "cell_type": "code",
      "execution_count": null,
      "metadata": {
        "colab": {
          "background_save": true
        },
        "id": "2u1oVNO199_s"
      },
      "outputs": [],
      "source": []
    }
  ],
  "metadata": {
    "colab": {
      "provenance": [],
      "mount_file_id": "1BdgXUKkcZOr4lNWe47X1uH4vx1GpoEMa",
      "authorship_tag": "ABX9TyMLEsYKkCE/PnNHadU41Tvz",
      "include_colab_link": true
    },
    "kernelspec": {
      "display_name": "Python 3",
      "name": "python3"
    },
    "language_info": {
      "name": "python"
    }
  },
  "nbformat": 4,
  "nbformat_minor": 0
}